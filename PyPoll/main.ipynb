{
 "cells": [
  {
   "cell_type": "code",
   "execution_count": 2,
   "metadata": {},
   "outputs": [
    {
     "name": "stdout",
     "output_type": "stream",
     "text": [
      " Volume in drive C is OS\n",
      " Volume Serial Number is 44FC-8A38\n",
      "\n",
      " Directory of C:\\Users\\cro11\\git_home\\Python_Project\\PyBank\n",
      "\n",
      "09/18/2020  10:38 AM    <DIR>          .\n",
      "09/18/2020  10:38 AM    <DIR>          ..\n",
      "09/18/2020  10:38 AM    <DIR>          .ipynb_checkpoints\n",
      "09/18/2020  10:37 AM             2,861 main.ipynb\n",
      "09/18/2020  09:20 AM             2,504 main.py\n",
      "09/18/2020  07:56 AM             2,015 main1.py\n",
      "09/18/2020  10:38 AM             2,861 main-Copy1.ipynb\n",
      "09/16/2020  03:13 PM    <DIR>          Resources\n",
      "09/18/2020  10:38 AM                72 Untitled.ipynb\n",
      "               5 File(s)         10,313 bytes\n",
      "               4 Dir(s)  79,127,506,944 bytes free\n"
     ]
    }
   ],
   "source": [
    "ls"
   ]
  }
 ],
 "metadata": {
  "kernelspec": {
   "display_name": "Python 3",
   "language": "python",
   "name": "python3"
  },
  "language_info": {
   "codemirror_mode": {
    "name": "ipython",
    "version": 3
   },
   "file_extension": ".py",
   "mimetype": "text/x-python",
   "name": "python",
   "nbconvert_exporter": "python",
   "pygments_lexer": "ipython3",
   "version": "3.8.3"
  }
 },
 "nbformat": 4,
 "nbformat_minor": 4
}
