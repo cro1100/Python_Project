{
 "cells": [
  {
   "cell_type": "code",
   "execution_count": 1,
   "metadata": {},
   "outputs": [],
   "source": [
    "# Import modules needed, OS and CSV\n",
    "import os\n",
    "import csv"
   ]
  },
  {
   "cell_type": "code",
   "execution_count": 2,
   "metadata": {},
   "outputs": [],
   "source": [
    "# create the path name to access the bank data in a csv file and use it\n",
    "pollpath = os.path.join( 'Resources', 'election_data.csv')\n"
   ]
  },
  {
   "cell_type": "code",
   "execution_count": 9,
   "metadata": {},
   "outputs": [
    {
     "name": "stdout",
     "output_type": "stream",
     "text": [
      "Election Results\n",
      "------------------------\n",
      "Total Votes: 3521001\n",
      "\n",
      "['Khan', 'Correy', 'Li', \"O'Tooley\"]\n",
      "[2218231, 704200, 492940, 105630]\n"
     ]
    }
   ],
   "source": [
    "# open the csv to begin looping through\n",
    "with open(pollpath) as polldata:\n",
    "    poll_reader = csv.reader(polldata, delimiter = ',')\n",
    "# skip the header row\n",
    "    header = next(poll_reader)\n",
    "    \n",
    "# initiate candidates and votes lists.  These will track who has received a vote and how many votes they received.\n",
    "    already_listed = False\n",
    "    candidates = []\n",
    "    votes = []\n",
    "    \n",
    "# read the rows of each voters choice\n",
    "    for row in poll_reader:\n",
    "    # test if the data is in the list of candidates; if it is, add one to their votes, already_listed to true & break the loop\n",
    "    # if not, set already_listed to false, which will be the test for appending\n",
    "\n",
    "        for cndidt in candidates:\n",
    "            if cndidt == row[2]:\n",
    "                votes[candidates.index(cndidt)] += 1   #add a vote for the candidate if it matches the list\n",
    "                already_listed = True                  #set to true to not append the list\n",
    "                break\n",
    "            else:\n",
    "                already_listed = False\n",
    "        if already_listed == False:\n",
    "            candidates.append(row[2])\n",
    "            votes.append(1)\n",
    "\n",
    "#sum of the votes, or total number of voters\n",
    "voters = sum(votes)\n",
    "\n",
    "#print out the results\n",
    "print('Election Results')\n",
    "print('------------------------')\n",
    "print(f'Total Votes: {voters}')\n",
    "            \n",
    "print()\n",
    "print(candidates)\n",
    "print(votes)\n",
    "\n",
    "\n",
    "    \n",
    "    "
   ]
  },
  {
   "cell_type": "code",
   "execution_count": null,
   "metadata": {},
   "outputs": [],
   "source": []
  },
  {
   "cell_type": "code",
   "execution_count": null,
   "metadata": {},
   "outputs": [],
   "source": []
  }
 ],
 "metadata": {
  "kernelspec": {
   "display_name": "Python 3",
   "language": "python",
   "name": "python3"
  },
  "language_info": {
   "codemirror_mode": {
    "name": "ipython",
    "version": 3
   },
   "file_extension": ".py",
   "mimetype": "text/x-python",
   "name": "python",
   "nbconvert_exporter": "python",
   "pygments_lexer": "ipython3",
   "version": "3.8.3"
  }
 },
 "nbformat": 4,
 "nbformat_minor": 4
}
