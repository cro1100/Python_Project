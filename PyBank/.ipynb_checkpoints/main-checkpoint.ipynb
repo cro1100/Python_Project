{
 "cells": [
  {
   "cell_type": "code",
   "execution_count": 12,
   "metadata": {},
   "outputs": [
    {
     "name": "stdout",
     "output_type": "stream",
     "text": [
      " Volume in drive C is OS\n",
      " Volume Serial Number is 44FC-8A38\n",
      "\n",
      " Directory of C:\\Users\\cro11\\git_home\\nu-chi-data-pt-08-2020-u-c\\01-Lesson-Plans\\04-Pandas\\1\\Activities\\05-Ins_DataFunctions\\Solved\n",
      "\n",
      "09/18/2020  08:16 AM    <DIR>          .\n",
      "09/18/2020  08:16 AM    <DIR>          ..\n",
      "09/18/2020  08:10 AM    <DIR>          .ipynb_checkpoints\n",
      "09/17/2020  07:42 PM            17,220 data_functions.ipynb\n",
      "09/18/2020  07:47 AM             4,151 PyBank_main.ipynb\n",
      "09/17/2020  05:47 PM    <DIR>          Resources\n",
      "09/18/2020  07:36 AM             2,983 Untitled.ipynb\n",
      "09/18/2020  07:39 AM                72 Untitled1.ipynb\n",
      "09/18/2020  08:16 AM             3,248 Untitled2.ipynb\n",
      "09/18/2020  07:45 AM                72 Untitled3.ipynb\n",
      "               6 File(s)         27,746 bytes\n",
      "               4 Dir(s)  80,234,737,664 bytes free\n"
     ]
    }
   ],
   "source": [
    "!dir"
   ]
  },
  {
   "cell_type": "code",
   "execution_count": 1,
   "metadata": {},
   "outputs": [],
   "source": [
    "# Import modules needed, OS and CSV\n",
    "import os\n",
    "import csv\n",
    "import itertools"
   ]
  },
  {
   "cell_type": "code",
   "execution_count": 4,
   "metadata": {},
   "outputs": [
    {
     "ename": "SyntaxError",
     "evalue": "invalid syntax (<ipython-input-4-3d574d514669>, line 2)",
     "output_type": "error",
     "traceback": [
      "\u001b[1;36m  File \u001b[1;32m\"<ipython-input-4-3d574d514669>\"\u001b[1;36m, line \u001b[1;32m2\u001b[0m\n\u001b[1;33m    bankpath = os.path.join(Resources', 'budget_data.csv')\u001b[0m\n\u001b[1;37m                                     ^\u001b[0m\n\u001b[1;31mSyntaxError\u001b[0m\u001b[1;31m:\u001b[0m invalid syntax\n"
     ]
    }
   ],
   "source": [
    "# create the path name to access the bank data in a csv file and use it\n",
    "bankpath = os.path.join('Resources', 'budget_data.csv')\n",
    "total_profit_loss = 0"
   ]
  },
  {
   "cell_type": "code",
   "execution_count": 3,
   "metadata": {},
   "outputs": [
    {
     "ename": "FileNotFoundError",
     "evalue": "[Errno 2] No such file or directory: '.\\\\Resources\\\\budget_data.csv'",
     "output_type": "error",
     "traceback": [
      "\u001b[1;31m---------------------------------------------------------------------------\u001b[0m",
      "\u001b[1;31mFileNotFoundError\u001b[0m                         Traceback (most recent call last)",
      "\u001b[1;32m<ipython-input-3-1a7f4d54913f>\u001b[0m in \u001b[0;36m<module>\u001b[1;34m\u001b[0m\n\u001b[1;32m----> 1\u001b[1;33m \u001b[1;32mwith\u001b[0m \u001b[0mopen\u001b[0m\u001b[1;33m(\u001b[0m\u001b[0mbankpath\u001b[0m\u001b[1;33m)\u001b[0m \u001b[1;32mas\u001b[0m \u001b[0mbankdata\u001b[0m\u001b[1;33m:\u001b[0m\u001b[1;33m\u001b[0m\u001b[1;33m\u001b[0m\u001b[0m\n\u001b[0m\u001b[0;32m      2\u001b[0m     \u001b[0mbudget_reader\u001b[0m \u001b[1;33m=\u001b[0m \u001b[0mcsv\u001b[0m\u001b[1;33m.\u001b[0m\u001b[0mreader\u001b[0m\u001b[1;33m(\u001b[0m\u001b[0mbankdata\u001b[0m\u001b[1;33m,\u001b[0m \u001b[0mdelimiter\u001b[0m \u001b[1;33m=\u001b[0m \u001b[1;34m','\u001b[0m\u001b[1;33m)\u001b[0m\u001b[1;33m\u001b[0m\u001b[1;33m\u001b[0m\u001b[0m\n\u001b[0;32m      3\u001b[0m     \u001b[0mbudget_list\u001b[0m \u001b[1;33m=\u001b[0m \u001b[0mlist\u001b[0m\u001b[1;33m(\u001b[0m\u001b[0mbudget_reader\u001b[0m\u001b[1;33m)\u001b[0m\u001b[1;33m\u001b[0m\u001b[1;33m\u001b[0m\u001b[0m\n\u001b[0;32m      4\u001b[0m \u001b[1;33m\u001b[0m\u001b[0m\n\u001b[0;32m      5\u001b[0m \u001b[1;31m# find number of rows in the list for the number of months, subtract 1 to eliminate header\u001b[0m\u001b[1;33m\u001b[0m\u001b[1;33m\u001b[0m\u001b[1;33m\u001b[0m\u001b[0m\n",
      "\u001b[1;31mFileNotFoundError\u001b[0m: [Errno 2] No such file or directory: '.\\\\Resources\\\\budget_data.csv'"
     ]
    }
   ],
   "source": [
    "with open(bankpath) as bankdata:\n",
    "    budget_reader = csv.reader(bankdata, delimiter = ',')\n",
    "    budget_list = list(budget_reader)\n",
    "\n",
    "# find number of rows in the list for the number of months, subtract 1 to eliminate header   \n",
    "    total_months = len(budget_list) - 1\n",
    "\n",
    "    best_month_index = index(max(total_months))\n",
    "    print(best_month_index)"
   ]
  },
  {
   "cell_type": "code",
   "execution_count": null,
   "metadata": {},
   "outputs": [],
   "source": []
  }
 ],
 "metadata": {
  "kernelspec": {
   "display_name": "Python 3",
   "language": "python",
   "name": "python3"
  },
  "language_info": {
   "codemirror_mode": {
    "name": "ipython",
    "version": 3
   },
   "file_extension": ".py",
   "mimetype": "text/x-python",
   "name": "python",
   "nbconvert_exporter": "python",
   "pygments_lexer": "ipython3",
   "version": "3.8.3"
  }
 },
 "nbformat": 4,
 "nbformat_minor": 4
}
