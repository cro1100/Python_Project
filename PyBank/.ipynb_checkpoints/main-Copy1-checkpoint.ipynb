{
 "cells": [
  {
   "cell_type": "code",
   "execution_count": 1,
   "metadata": {},
   "outputs": [],
   "source": [
    "# Import modules needed, OS and CSV\n",
    "import os\n",
    "import csv\n",
    "import itertools"
   ]
  },
  {
   "cell_type": "code",
   "execution_count": 2,
   "metadata": {},
   "outputs": [],
   "source": [
    "bankpath = os.path.join( 'Resources', 'budget_data.csv')\n",
    "total_profit_loss = 0\n",
    "profit_change_low = 0\n",
    "profit_change_high = 0\n",
    "i = 4"
   ]
  },
  {
   "cell_type": "code",
   "execution_count": 3,
   "metadata": {},
   "outputs": [],
   "source": [
    "# open the csv and store to a list\n",
    "with open(bankpath) as bankdata:\n",
    "    budget_reader = csv.reader(bankdata, delimiter = ',')\n",
    "    budget_list = list(budget_reader)\n",
    "\n",
    "# find number of rows in the list for the number of months, subtract 1 to eliminate header   \n",
    "    total_months = len(budget_list) - 1\n",
    "\n",
    "# for loop for the sum of all profits/losses\n",
    "    for row in range(2, total_months):\n",
    "        total_profit_loss += int(budget_list[row][1])\n",
    " \n",
    "# for loop to find the changes in profits\n",
    "    for row in range(4, total_months):\n",
    "        i += 1\n",
    "        profit_change_prev = int(budget_list[row-1][1]) - int(budget_list[row-2][1])\n",
    "        profit_change_current = int(budget_list[row][1]) - int(budget_list[row-1][1])\n",
    "        if profit_change_current < profit_change_low:\n",
    "            profit_change_low = profit_change_current\n",
    "            low_location = i\n",
    "        if profit_change_current > profit_change_high:\n",
    "            profit_change_high = profit_change_current\n",
    "            high_location = i"
   ]
  },
  {
   "cell_type": "code",
   "execution_count": 4,
   "metadata": {},
   "outputs": [
    {
     "name": "stdout",
     "output_type": "stream",
     "text": [
      "86\n",
      "36843595\n",
      "46\n",
      "-2196167\n",
      "27\n",
      "1926159\n"
     ]
    }
   ],
   "source": [
    "print(total_months)\n",
    "print(total_profit_loss)\n",
    "print(low_location)\n",
    "print(profit_change_low)\n",
    "print(high_location)\n",
    "print(profit_change_high)"
   ]
  },
  {
   "cell_type": "code",
   "execution_count": null,
   "metadata": {},
   "outputs": [],
   "source": []
  }
 ],
 "metadata": {
  "kernelspec": {
   "display_name": "Python 3",
   "language": "python",
   "name": "python3"
  },
  "language_info": {
   "codemirror_mode": {
    "name": "ipython",
    "version": 3
   },
   "file_extension": ".py",
   "mimetype": "text/x-python",
   "name": "python",
   "nbconvert_exporter": "python",
   "pygments_lexer": "ipython3",
   "version": "3.8.3"
  }
 },
 "nbformat": 4,
 "nbformat_minor": 4
}
